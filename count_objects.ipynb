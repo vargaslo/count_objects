{
 "metadata": {
  "name": "",
  "signature": "sha256:7c5ad7276873a4ca5012698c41dddb036f08f27f1af219ed836106bf0c3405ed"
 },
 "nbformat": 3,
 "nbformat_minor": 0,
 "worksheets": [
  {
   "cells": [
    {
     "cell_type": "code",
     "collapsed": false,
     "input": [
      "import numpy as np\n",
      "import matplotlib.pyplot as plt\n",
      "\n",
      "import cv2 as cv2\n",
      "from scipy import ndimage\n",
      "\n",
      "#import skimage\n",
      "#from skimage import morphology\n",
      "#from skimage import segmentation\n",
      "\n",
      "import mahotas as mh"
     ],
     "language": "python",
     "metadata": {},
     "outputs": [],
     "prompt_number": 4
    },
    {
     "cell_type": "markdown",
     "metadata": {},
     "source": [
      "# # Make binary image (preprocess)"
     ]
    },
    {
     "cell_type": "code",
     "collapsed": false,
     "input": [
      "def binarize(grayscale):\n",
      "    \n",
      "    gaussian, otsu, adaptive, morph = [1, 0, 1, 1]  #dna\n",
      "    #gaussian, otsu, adaptive, morph = [0, 1, 0, 1]  #pills\n",
      "    \n",
      "    img = grayscale\n",
      "\n",
      "    if gaussian:\n",
      "    #    imgf = mh.gaussian_filter(grayscale, 16, mode='nearest')\n",
      "        # gaussian --  * BORDER_REPLICATE:     aaaaaa|abcdefgh|hhhhhhh\n",
      "        img = cv2.GaussianBlur(img, ksize=(0,0), sigmaX=16, borderType=cv2.BORDER_REPLICATE)\n",
      "        \n",
      "    if otsu:\n",
      "        # otsu threshold (or adaptive?)\n",
      "        _, img = cv2.threshold(img, 0, 255, cv2.THRESH_BINARY+cv2.THRESH_OTSU)\n",
      "\n",
      "    if adaptive:\n",
      "        # adaptive threshold\n",
      "        img = cv2.adaptiveThreshold(img, 255, cv2.ADAPTIVE_THRESH_MEAN_C, cv2.THRESH_BINARY, 99, 0)\n",
      "\n",
      "    if morph:\n",
      "        # morphology transformation\n",
      "        kernel_size, iterations = [5, 8]  # dna\n",
      "        #kernel_size, iterations = [3, 2]  # pills\n",
      "        kernel = np.ones((kernel_size, kernel_size), dtype=int)\n",
      "        img = cv2.morphologyEx(img, cv2.MORPH_OPEN, kernel, iterations=iterations)\n",
      "    \n",
      "    return img\n",
      "\n",
      "\n",
      "img_bin = binarize(cv2.cvtColor(cv2.imread('dna.jpeg'), cv2.COLOR_BGR2GRAY))\n",
      "\n",
      "plt.close('all')\n",
      "plt.figure()\n",
      "\n",
      "plt.subplot(121)\n",
      "plt.imshow(cv2.imread('dna.jpeg'))\n",
      "plt.subplot(122)\n",
      "plt.imshow(img_bin)\n",
      "plt.show()"
     ],
     "language": "python",
     "metadata": {},
     "outputs": [],
     "prompt_number": 5
    },
    {
     "cell_type": "markdown",
     "metadata": {},
     "source": [
      "# # Count objects"
     ]
    },
    {
     "cell_type": "code",
     "collapsed": false,
     "input": [
      "def get_markers(img_bin):\n",
      "        \n",
      "    # distance transform\n",
      "    dt = cv2.distanceTransform(img_bin, distanceType=2, maskSize=3)\n",
      "    dt = (255 * (dt - dt.min()) / float(dt.ptp())).astype(np.uint8)\n",
      "    \n",
      "    # find regional maxima (first dilate to get bigger feature sizes)\n",
      "    relsize=12\n",
      "    rmax = mh.regmax(cv2.dilate(dt,None,iterations=relsize))\n",
      "        \n",
      "    # label the regions\n",
      "    seeds,nr_nuclei = ndimage.label(rmax)        \n",
      "    seeds = seeds*(255//nr_nuclei)\n",
      "    print ('Objects found: {0}'.format(nr_nuclei))\n",
      "\n",
      "    # find border\n",
      "    border = cv2.dilate(img_bin, None, iterations=10)\n",
      "    border = border - cv2.erode(border, None)\n",
      "\n",
      "    # highlight the borders \n",
      "    seeds[border == 255] = 255\n",
      "    \n",
      "    return seeds, dt"
     ],
     "language": "python",
     "metadata": {},
     "outputs": [],
     "prompt_number": 6
    },
    {
     "cell_type": "markdown",
     "metadata": {},
     "source": [
      "# # Segmentation"
     ]
    },
    {
     "cell_type": "code",
     "collapsed": false,
     "input": [
      "def seg_watershed(img_orig):\n",
      "\n",
      "    # get single channel grayscale image from original\n",
      "    if np.ndim(img_orig)==3:        \n",
      "        grayscale = cv2.cvtColor(img_orig, cv2.COLOR_BGR2GRAY)\n",
      "    elif np.ndim(img_orig)==2:\n",
      "        grayscale = img_orig\n",
      "        img_orig = np.repeat(img_orig[:,:,np.newaxis], 3, axis=2)\n",
      "        \n",
      "    # make binary image\n",
      "    img_bin = binarize(grayscale)\n",
      "    \n",
      "    # get markers\n",
      "    markers, dist_transform = get_markers(img_bin)\n",
      "    markers_pre = np.copy(markers)\n",
      "    \n",
      "    # watershed\n",
      "    cv2.watershed(img_orig, markers)\n",
      "    \n",
      "    # fix border color\n",
      "    markers[markers==-1] = 0\n",
      "    markers_post = np.copy(markers.max()-markers)\n",
      "\n",
      "    plt.figure(1, dpi=144)\n",
      "    plt.subplot(221)\n",
      "    plt.imshow(img_orig, interpolation='nearest', vmin=0, vmax=255)\n",
      "    plt.title('original image')\n",
      "    plt.subplot(222)\n",
      "    plt.imshow(grayscale, interpolation='nearest', vmin=0, vmax=255)\n",
      "    plt.title('grayscale')\n",
      "    plt.subplot(223)\n",
      "    plt.imshow(img_bin, interpolation='nearest', vmin=0, vmax=255)\n",
      "    plt.title('binary processed')\n",
      "    plt.subplot(224)\n",
      "    plt.imshow(dist_transform, interpolation='nearest', vmin=0, vmax=255)\n",
      "    plt.title('distance transform')\n",
      "    plt.savefig('preprocess.png', dpi=300)\n",
      "\n",
      "    plt.figure(2, dpi=144)\n",
      "    plt.subplot(221)\n",
      "    plt.imshow(markers_pre, interpolation='nearest', vmin=0, vmax=255)\n",
      "    plt.title('Marker labels')\n",
      "    plt.subplot(222)\n",
      "    plt.imshow(mh.overlay(grayscale, markers_pre), interpolation='nearest', vmin=0, vmax=255)\n",
      "    plt.title('Marker labels overlay')\n",
      "    plt.subplot(223)\n",
      "    plt.imshow(markers_post, interpolation='nearest', vmin=0, vmax=255)\n",
      "    plt.title('Watershed result')\n",
      "    plt.subplot(224)\n",
      "    plt.imshow(mh.overlay(grayscale, markers_post), interpolation='nearest', vmin=0, vmax=255)\n",
      "    plt.title('Watershed result overlay')\n",
      "    plt.savefig('postprocess.png', dpi=300)\n",
      "        \n",
      "    return\n",
      "\n",
      "\n",
      "plt.close('all')\n",
      "seg_watershed(cv2.imread('dna.jpeg'))"
     ],
     "language": "python",
     "metadata": {},
     "outputs": [
      {
       "output_type": "stream",
       "stream": "stdout",
       "text": [
        "Objects found: 21\n"
       ]
      }
     ],
     "prompt_number": 7
    },
    {
     "cell_type": "code",
     "collapsed": false,
     "input": [],
     "language": "python",
     "metadata": {},
     "outputs": []
    }
   ],
   "metadata": {}
  }
 ]
}